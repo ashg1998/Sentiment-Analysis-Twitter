{
 "cells": [
  {
   "cell_type": "code",
   "execution_count": 1,
   "metadata": {},
   "outputs": [],
   "source": [
    "from imblearn.under_sampling import (RandomUnderSampler,\n",
    "NearMiss,\n",
    "InstanceHardnessThreshold,\n",
    "CondensedNearestNeighbour,\n",
    "EditedNearestNeighbours,\n",
    "RepeatedEditedNearestNeighbours,\n",
    "AllKNN,\n",
    "NeighbourhoodCleaningRule,\n",
    "OneSidedSelection,\n",
    "TomekLinks)"
   ]
  },
  {
   "cell_type": "code",
   "execution_count": 2,
   "metadata": {},
   "outputs": [],
   "source": [
    "import pandas as pd\n",
    "import re\n",
    "from nltk.stem.porter import PorterStemmer\n",
    "from nltk.corpus import stopwords\n",
    "from sklearn.feature_extraction.text import TfidfVectorizer\n"
   ]
  },
  {
   "cell_type": "code",
   "execution_count": 3,
   "metadata": {},
   "outputs": [
    {
     "name": "stderr",
     "output_type": "stream",
     "text": [
      "C:\\Users\\user\\Anaconda3\\lib\\site-packages\\ipykernel_launcher.py:11: SettingWithCopyWarning: \n",
      "A value is trying to be set on a copy of a slice from a DataFrame\n",
      "\n",
      "See the caveats in the documentation: http://pandas.pydata.org/pandas-docs/stable/user_guide/indexing.html#returning-a-view-versus-a-copy\n",
      "  # This is added back by InteractiveShellApp.init_path()\n"
     ]
    }
   ],
   "source": [
    "data = pd.read_csv('train.csv')\n",
    "ps = PorterStemmer()\n",
    "def all_the_cooking(line):\n",
    "    reviews = re.sub('[^a-zA-Z]' , ' ', line)\n",
    "    reviews = reviews.lower()\n",
    "    reviews = reviews.split()\n",
    "    reviews = [ps.stem(word) for word in reviews if not word in set(stopwords.words('english'))]\n",
    "    reviews = ' '.join(reviews)\n",
    "    return(reviews)\n",
    "for i,line in enumerate(data.tweet):\n",
    "    data.tweet[i] = all_the_cooking(line)"
   ]
  },
  {
   "cell_type": "code",
   "execution_count": 33,
   "metadata": {},
   "outputs": [],
   "source": [
    "vect = TfidfVectorizer()\n",
    "tfid_data_x = vect.fit_transform(data['tweet'])\n",
    "train_y  = data['label']"
   ]
  },
  {
   "cell_type": "code",
   "execution_count": 5,
   "metadata": {},
   "outputs": [],
   "source": [
    "def train_model(train_x,train_y,test_x,test_y):\n",
    "    from sklearn.naive_bayes import MultinomialNB\n",
    "    model = MultinomialNB()\n",
    "    model.fit(X=train_x , y = train_y)\n",
    "    expected = test_y\n",
    "    predicted=model.predict(test_x)\n",
    "    from sklearn import metrics\n",
    "    print(metrics.classification_report(expected, predicted))\n",
    "    print(metrics.confusion_matrix(expected, predicted))\n",
    "        "
   ]
  },
  {
   "cell_type": "code",
   "execution_count": 7,
   "metadata": {},
   "outputs": [],
   "source": [
    "from sklearn.model_selection import train_test_split"
   ]
  },
  {
   "cell_type": "code",
   "execution_count": 29,
   "metadata": {},
   "outputs": [
    {
     "name": "stdout",
     "output_type": "stream",
     "text": [
      "NearMiss(n_jobs=1, n_neighbors=3, n_neighbors_ver3=3, random_state=None,\n",
      "         ratio=None, return_indices=False, sampling_strategy='auto', version=1)\n",
      "              precision    recall  f1-score   support\n",
      "\n",
      "           0       0.87      0.84      0.85       597\n",
      "           1       0.83      0.85      0.84       524\n",
      "\n",
      "    accuracy                           0.85      1121\n",
      "   macro avg       0.85      0.85      0.85      1121\n",
      "weighted avg       0.85      0.85      0.85      1121\n",
      "\n",
      "[[502  95]\n",
      " [ 76 448]]\n"
     ]
    }
   ],
   "source": [
    "sampler = NearMiss(version=1)\n",
    "nm_xtrain_tfidf, nm_train_y = sampler.fit_sample(tfid_data_x, train_y)\n",
    "train_x, test_x, train_y, test_y = train_test_split(nm_xtrain_tfidf, nm_train_y)\n",
    "print(sampler)\n",
    "train_model(train_x,train_y ,test_x,test_y)"
   ]
  },
  {
   "cell_type": "code",
   "execution_count": 9,
   "metadata": {},
   "outputs": [],
   "source": [
    "sampler = NearMiss(version=2)"
   ]
  },
  {
   "cell_type": "code",
   "execution_count": 31,
   "metadata": {},
   "outputs": [
    {
     "name": "stdout",
     "output_type": "stream",
     "text": [
      "NearMiss(n_jobs=1, n_neighbors=3, n_neighbors_ver3=3, random_state=None,\n",
      "         ratio=None, return_indices=False, sampling_strategy='auto', version=1)\n",
      "              precision    recall  f1-score   support\n",
      "\n",
      "           0       0.83      0.86      0.85       583\n",
      "           1       0.84      0.82      0.83       538\n",
      "\n",
      "    accuracy                           0.84      1121\n",
      "   macro avg       0.84      0.84      0.84      1121\n",
      "weighted avg       0.84      0.84      0.84      1121\n",
      "\n",
      "[[500  83]\n",
      " [ 99 439]]\n"
     ]
    }
   ],
   "source": [
    "nm_xtrain_tfidf, nm_train_y = sampler.fit_sample(tfid_data_x, train_y)\n",
    "train_x, test_x, train_y, test_y = train_test_split(nm_xtrain_tfidf, nm_train_y)\n",
    "print(sampler)\n",
    "train_model(train_x,train_y ,test_x,test_y)"
   ]
  },
  {
   "cell_type": "code",
   "execution_count": 13,
   "metadata": {},
   "outputs": [],
   "source": [
    "sampler = NearMiss(version=3)"
   ]
  },
  {
   "cell_type": "code",
   "execution_count": 34,
   "metadata": {},
   "outputs": [
    {
     "name": "stdout",
     "output_type": "stream",
     "text": [
      "NearMiss(n_jobs=1, n_neighbors=3, n_neighbors_ver3=3, random_state=None,\n",
      "         ratio=None, return_indices=False, sampling_strategy='auto', version=1)\n",
      "              precision    recall  f1-score   support\n",
      "\n",
      "           0       0.85      0.84      0.85       576\n",
      "           1       0.83      0.85      0.84       545\n",
      "\n",
      "    accuracy                           0.84      1121\n",
      "   macro avg       0.84      0.84      0.84      1121\n",
      "weighted avg       0.84      0.84      0.84      1121\n",
      "\n",
      "[[484  92]\n",
      " [ 83 462]]\n"
     ]
    }
   ],
   "source": [
    "nm_xtrain_tfidf, nm_train_y = sampler.fit_sample(tfid_data_x, train_y)\n",
    "train_x, test_x, train_y, test_y = train_test_split(nm_xtrain_tfidf, nm_train_y)\n",
    "print(sampler)\n",
    "train_model(train_x,train_y ,test_x,test_y)"
   ]
  },
  {
   "cell_type": "code",
   "execution_count": null,
   "metadata": {},
   "outputs": [],
   "source": []
  }
 ],
 "metadata": {
  "kernelspec": {
   "display_name": "Python 3",
   "language": "python",
   "name": "python3"
  },
  "language_info": {
   "codemirror_mode": {
    "name": "ipython",
    "version": 3
   },
   "file_extension": ".py",
   "mimetype": "text/x-python",
   "name": "python",
   "nbconvert_exporter": "python",
   "pygments_lexer": "ipython3",
   "version": "3.7.4"
  }
 },
 "nbformat": 4,
 "nbformat_minor": 2
}
